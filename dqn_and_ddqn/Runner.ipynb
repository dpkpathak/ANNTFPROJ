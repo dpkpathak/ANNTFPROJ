{
 "cells": [
  {
   "cell_type": "code",
   "execution_count": null,
   "metadata": {},
   "outputs": [],
   "source": [
    "import gym\n",
    "import agent"
   ]
  },
  {
   "cell_type": "code",
   "execution_count": null,
   "metadata": {},
   "outputs": [],
   "source": [
    "# Training on 4 environments\n",
    "environment_list = [\"CartPole-v1\",\"Acrobot-v1\",\"MountainCar-v0\",\"Pendulum-v0\"]\n",
    "agent_names = [\"dqn\",\"ddqn\"]\n",
    "for env in environment_list:\n",
    "    player = agent.Gameagent(environment=env)\n",
    "    for game_agent in agent_names:\n",
    "        if(game_agent == \"dqn\"):\n",
    "            train_steps,train_losses,train_rewards = player.train_dqn()\n",
    "        else:\n",
    "            train_steps,train_losses,train_rewards = player.train_ddqn()\n",
    "        player.save_training_variable(game_agent,train_steps,train_losses,train_rewards)\n",
    "        player.save_weights(game_agent)"
   ]
  }
 ],
 "metadata": {
  "kernelspec": {
   "display_name": "Python 3",
   "language": "python",
   "name": "python3"
  },
  "language_info": {
   "codemirror_mode": {
    "name": "ipython",
    "version": 3
   },
   "file_extension": ".py",
   "mimetype": "text/x-python",
   "name": "python",
   "nbconvert_exporter": "python",
   "pygments_lexer": "ipython3",
   "version": "3.7.4"
  }
 },
 "nbformat": 4,
 "nbformat_minor": 4
}
