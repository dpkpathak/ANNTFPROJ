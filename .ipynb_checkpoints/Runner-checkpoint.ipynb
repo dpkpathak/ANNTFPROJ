{
 "cells": [
  {
   "cell_type": "code",
   "execution_count": 1,
   "metadata": {},
   "outputs": [],
   "source": [
    "import gym\n",
    "from dqn_and_ddqn import agent"
   ]
  },
  {
   "cell_type": "code",
   "execution_count": null,
   "metadata": {},
   "outputs": [],
   "source": [
    "# Training on 4 environments\n",
    "environment_list = [\"CartPole-v0\",\"CartPole-v1\",\"Acrobot-v1\",\"MountainCar-v0\"]\n",
    "agent_names = [\"dqn\",\"ddqn\"]\n",
    "for env in environment_list:\n",
    "    environment = gym.make(env)\n",
    "    player = agent.Gameagent(environment=environment)\n",
    "    for game_agent in agent_names:\n",
    "        if(game_agent == \"dqn\"):\n",
    "            train_steps,train_losses,train_rewards = player.train_dqn()\n",
    "        else:\n",
    "            train_steps,train_losses,train_rewards = player.train_ddqn()\n",
    "        player.save_training_variable(game_agent,train_steps,train_losses,train_rewards)\n",
    "        player.save_weights(game_agent)"
   ]
  },
  {
   "cell_type": "code",
   "execution_count": 3,
   "metadata": {},
   "outputs": [],
   "source": [
    "environment = gym.make(\"CartPole-v0\")"
   ]
  },
  {
   "cell_type": "code",
   "execution_count": 4,
   "metadata": {},
   "outputs": [],
   "source": [
    "player = agent.Gameagent(environment=environment)"
   ]
  },
  {
   "cell_type": "code",
   "execution_count": 5,
   "metadata": {},
   "outputs": [
    {
     "name": "stdout",
     "output_type": "stream",
     "text": [
      "WARNING:tensorflow:Layer qnetwork is casting an input tensor from dtype float64 to the layer's dtype of float32, which is new behavior in TensorFlow 2.  The layer has dtype float32 because it's dtype defaults to floatx.\n",
      "\n",
      "If you intended to run this layer in float32, you can safely ignore this warning. If in doubt, this warning is likely only an issue if you are porting a TensorFlow 1.X model to TensorFlow 2.\n",
      "\n",
      "To change all layers to have dtype float64 by default, call `tf.keras.backend.set_floatx('float64')`. To change just this layer, pass dtype='float64' to the layer constructor. If you are the author of this layer, you can disable autocasting by passing autocast=False to the base Layer constructor.\n",
      "\n",
      "Episode: 0, Episode Reward: 15, Episode Loss:  0.649, Epsilon: 0.99211159568869\n"
     ]
    }
   ],
   "source": [
    "## Loading weight must run once the model as suggested here  https://www.tensorflow.org/guide/keras/save_and_serialize\n",
    "player.load_weights(\"dqn\") "
   ]
  },
  {
   "cell_type": "code",
   "execution_count": null,
   "metadata": {},
   "outputs": [],
   "source": []
  }
 ],
 "metadata": {
  "kernelspec": {
   "display_name": "Python 3",
   "language": "python",
   "name": "python3"
  },
  "language_info": {
   "codemirror_mode": {
    "name": "ipython",
    "version": 3
   },
   "file_extension": ".py",
   "mimetype": "text/x-python",
   "name": "python",
   "nbconvert_exporter": "python",
   "pygments_lexer": "ipython3",
   "version": "3.7.4"
  }
 },
 "nbformat": 4,
 "nbformat_minor": 4
}
